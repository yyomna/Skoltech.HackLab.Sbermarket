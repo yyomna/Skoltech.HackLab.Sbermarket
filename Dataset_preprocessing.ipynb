{
  "nbformat": 4,
  "nbformat_minor": 0,
  "metadata": {
    "colab": {
      "name": "Dataset_preprocessing.ipynb",
      "provenance": []
    },
    "kernelspec": {
      "name": "python3",
      "display_name": "Python 3"
    }
  },
  "cells": [
    {
      "cell_type": "code",
      "metadata": {
        "id": "5ovIR8WLwy6x"
      },
      "source": [
        "import os\n",
        "import pandas as pd\n",
        "import matplotlib.pyplot as plt\n",
        "import csv\n",
        "import pickle"
      ],
      "execution_count": 2,
      "outputs": []
    },
    {
      "cell_type": "code",
      "metadata": {
        "id": "akJ8fvsfGVdn",
        "outputId": "83efbffc-5adc-4d39-bf05-1740788aefe2",
        "colab": {
          "base_uri": "https://localhost:8080/",
          "height": 34
        }
      },
      "source": [
        "from google.colab import drive\n",
        "drive.mount('/content/drive')"
      ],
      "execution_count": 3,
      "outputs": [
        {
          "output_type": "stream",
          "text": [
            "Mounted at /content/drive\n"
          ],
          "name": "stdout"
        }
      ]
    },
    {
      "cell_type": "code",
      "metadata": {
        "id": "px21n7lcghEE",
        "outputId": "6a40d320-7ad4-433b-f1e7-e8237931b9e3",
        "colab": {
          "base_uri": "https://localhost:8080/",
          "height": 34
        }
      },
      "source": [
        "cd \"/content/drive/My Drive/Sbermarket_data\""
      ],
      "execution_count": 4,
      "outputs": [
        {
          "output_type": "stream",
          "text": [
            "/content/drive/My Drive/Sbermarket_data\n"
          ],
          "name": "stdout"
        }
      ]
    },
    {
      "cell_type": "code",
      "metadata": {
        "id": "QITWh1N5GoqG"
      },
      "source": [
        "# Next, install the Kaggle API client.\n",
        "!pip install -q kaggle"
      ],
      "execution_count": null,
      "outputs": []
    },
    {
      "cell_type": "code",
      "metadata": {
        "id": "A_Fe4cUegmu0",
        "outputId": "f02b4377-e33c-4d16-9693-d78071e3ad94",
        "colab": {
          "base_uri": "https://localhost:8080/",
          "height": 34
        }
      },
      "source": [
        "!ls"
      ],
      "execution_count": null,
      "outputs": [
        {
          "output_type": "stream",
          "text": [
            "kaggle.json\n"
          ],
          "name": "stdout"
        }
      ]
    },
    {
      "cell_type": "code",
      "metadata": {
        "id": "KixiXyagGy7Y"
      },
      "source": [
        "# The Kaggle API client expects this file to be in ~/.kaggle,\n",
        "# so move it there.\n",
        "!mkdir -p ~/.kaggle\n",
        "!cp kaggle.json ~/.kaggle/\n",
        "\n",
        "# This permissions change avoids a warning on Kaggle tool startup.\n",
        "!chmod 600 ~/.kaggle/kaggle.json"
      ],
      "execution_count": null,
      "outputs": []
    },
    {
      "cell_type": "code",
      "metadata": {
        "id": "rPZaJ7oOGuyh",
        "outputId": "5d48f157-1ebb-410c-b557-f532aa68654d",
        "colab": {
          "base_uri": "https://localhost:8080/",
          "height": 1000
        }
      },
      "source": [
        "!kaggle competitions download -c test-recsys -p \"/content/drive/My Drive/Sbermarket_data\""
      ],
      "execution_count": null,
      "outputs": [
        {
          "output_type": "stream",
          "text": [
            "Warning: Looks like you're using an outdated API Version, please consider updating (server 1.5.6 / client 1.5.4)\n",
            "Downloading tab_2_products_2020-08-18.csv.zip to /content/drive/My Drive/Sbermarket_data\n",
            " 98% 109M/111M [00:01<00:00, 59.1MB/s] \n",
            "100% 111M/111M [00:01<00:00, 67.9MB/s]\n",
            "Downloading tab_2_products_2020-09-07.csv.zip to /content/drive/My Drive/Sbermarket_data\n",
            " 94% 115M/123M [00:01<00:00, 76.5MB/s]\n",
            "100% 123M/123M [00:01<00:00, 87.7MB/s]\n",
            "Downloading tab_2_products_2020-08-08.csv.zip to /content/drive/My Drive/Sbermarket_data\n",
            " 91% 99.0M/109M [00:01<00:00, 62.0MB/s]\n",
            "100% 109M/109M [00:01<00:00, 72.6MB/s] \n",
            "Downloading tab_2_products_2020-08-28.csv.zip to /content/drive/My Drive/Sbermarket_data\n",
            " 94% 113M/120M [00:03<00:00, 40.2MB/s] \n",
            "100% 120M/120M [00:03<00:00, 36.7MB/s]\n",
            "Downloading tab_2_products_2020-06-29.csv.zip to /content/drive/My Drive/Sbermarket_data\n",
            " 94% 97.0M/103M [00:01<00:00, 99.4MB/s]\n",
            "100% 103M/103M [00:01<00:00, 95.5MB/s] \n",
            "Downloading tab_2_products_2020-06-09.csv.zip to /content/drive/My Drive/Sbermarket_data\n",
            " 98% 125M/128M [00:01<00:00, 96.8MB/s]\n",
            "100% 128M/128M [00:01<00:00, 68.6MB/s]\n",
            "Downloading tab_2_products_2020-06-19.csv.zip to /content/drive/My Drive/Sbermarket_data\n",
            " 95% 106M/111M [00:02<00:00, 51.3MB/s] \n",
            "100% 111M/111M [00:02<00:00, 55.1MB/s]\n",
            "Downloading tab_2_products_2020-07-19.csv.zip to /content/drive/My Drive/Sbermarket_data\n",
            " 96% 100M/104M [00:01<00:00, 62.5MB/s] \n",
            "100% 104M/104M [00:01<00:00, 60.1MB/s]\n",
            "Downloading tab_2_products_2020-07-29.csv.zip to /content/drive/My Drive/Sbermarket_data\n",
            " 87% 91.0M/104M [00:01<00:00, 61.6MB/s]\n",
            "100% 104M/104M [00:01<00:00, 86.2MB/s] \n",
            "Downloading tab_2_products_2020-07-09.csv.zip to /content/drive/My Drive/Sbermarket_data\n",
            " 90% 100M/112M [00:01<00:00, 59.5MB/s] \n",
            "100% 112M/112M [00:01<00:00, 59.4MB/s]\n",
            "Downloading tab_2_products_2020-04-10.csv.zip to /content/drive/My Drive/Sbermarket_data\n",
            " 93% 89.0M/96.2M [00:01<00:00, 73.6MB/s]\n",
            "100% 96.2M/96.2M [00:01<00:00, 66.3MB/s]\n",
            "Downloading tab_2_products_2020-04-30.csv.zip to /content/drive/My Drive/Sbermarket_data\n",
            " 95% 131M/137M [00:02<00:00, 85.1MB/s]\n",
            "100% 137M/137M [00:02<00:00, 66.3MB/s]\n",
            "Downloading tab_2_products_2020-04-20.csv.zip to /content/drive/My Drive/Sbermarket_data\n",
            " 88% 95.0M/108M [00:01<00:00, 90.7MB/s]\n",
            "100% 108M/108M [00:01<00:00, 82.3MB/s] \n",
            "Downloading tab_2_products_2020-05-10.csv.zip to /content/drive/My Drive/Sbermarket_data\n",
            " 99% 142M/144M [00:03<00:00, 69.8MB/s]\n",
            "100% 144M/144M [00:03<00:00, 48.2MB/s]\n",
            "Downloading tab_2_products_2020-05-30.csv.zip to /content/drive/My Drive/Sbermarket_data\n",
            " 99% 148M/150M [00:02<00:00, 82.1MB/s]\n",
            "100% 150M/150M [00:02<00:00, 70.9MB/s]\n",
            "Downloading tab_2_products_2020-05-20.csv.zip to /content/drive/My Drive/Sbermarket_data\n",
            " 98% 152M/156M [00:02<00:00, 103MB/s] \n",
            "100% 156M/156M [00:02<00:00, 66.0MB/s]\n",
            "Downloading tab_2_products_2020-01-11.csv.zip to /content/drive/My Drive/Sbermarket_data\n",
            " 99% 16.0M/16.1M [00:00<00:00, 28.0MB/s]\n",
            "100% 16.1M/16.1M [00:00<00:00, 27.5MB/s]\n",
            "Downloading tab_2_products_2020-03-21.csv.zip to /content/drive/My Drive/Sbermarket_data\n",
            " 78% 46.0M/59.0M [00:00<00:00, 50.3MB/s]\n",
            "100% 59.0M/59.0M [00:00<00:00, 71.1MB/s]\n",
            "Downloading tab_2_products_2020-01-21.csv.zip to /content/drive/My Drive/Sbermarket_data\n",
            " 48% 9.00M/18.8M [00:00<00:00, 82.9MB/s]\n",
            "100% 18.8M/18.8M [00:00<00:00, 91.9MB/s]\n",
            "Downloading tab_2_products_2020-01-01.csv.zip to /content/drive/My Drive/Sbermarket_data\n",
            " 98% 11.0M/11.2M [00:00<00:00, 23.9MB/s]\n",
            "100% 11.2M/11.2M [00:00<00:00, 22.8MB/s]\n",
            "Downloading tab_2_products_2020-03-31.csv.zip to /content/drive/My Drive/Sbermarket_data\n",
            " 91% 68.0M/74.7M [00:00<00:00, 67.3MB/s]\n",
            "100% 74.7M/74.7M [00:01<00:00, 73.2MB/s]\n",
            "Downloading tab_2_products_2020-01-31.csv.zip to /content/drive/My Drive/Sbermarket_data\n",
            " 60% 14.0M/23.2M [00:00<00:00, 16.5MB/s]\n",
            "100% 23.2M/23.2M [00:00<00:00, 34.0MB/s]\n",
            "Downloading tab_2_products_2020-02-10.csv.zip to /content/drive/My Drive/Sbermarket_data\n",
            " 93% 23.0M/24.8M [00:00<00:00, 56.8MB/s]\n",
            "100% 24.8M/24.8M [00:00<00:00, 71.3MB/s]\n",
            "Downloading tab_2_products_2020-03-01.csv.zip to /content/drive/My Drive/Sbermarket_data\n",
            " 88% 26.0M/29.4M [00:00<00:00, 67.4MB/s]\n",
            "100% 29.4M/29.4M [00:00<00:00, 84.6MB/s]\n",
            "Downloading tab_2_products_2020-02-20.csv.zip to /content/drive/My Drive/Sbermarket_data\n",
            " 83% 24.0M/29.0M [00:00<00:00, 38.3MB/s]\n",
            "100% 29.0M/29.0M [00:00<00:00, 58.5MB/s]\n",
            "Downloading tab_2_products_2020-03-11.csv.zip to /content/drive/My Drive/Sbermarket_data\n",
            " 96% 46.0M/48.0M [00:00<00:00, 109MB/s]\n",
            "100% 48.0M/48.0M [00:00<00:00, 108MB/s]\n",
            "Downloading tab_5_product_properties.csv.zip to /content/drive/My Drive/Sbermarket_data\n",
            " 92% 51.0M/55.6M [00:00<00:00, 48.8MB/s]\n",
            "100% 55.6M/55.6M [00:00<00:00, 60.3MB/s]\n",
            "Downloading tab_3_categories.csv to /content/drive/My Drive/Sbermarket_data\n",
            "  0% 0.00/44.3k [00:00<?, ?B/s]\n",
            "100% 44.3k/44.3k [00:00<00:00, 6.03MB/s]\n",
            "Downloading tab_4_user_profiles.csv.zip to /content/drive/My Drive/Sbermarket_data\n",
            "  0% 0.00/1.94M [00:00<?, ?B/s]\n",
            "100% 1.94M/1.94M [00:00<00:00, 63.9MB/s]\n",
            "Downloading tab_1_orders.csv.zip to /content/drive/My Drive/Sbermarket_data\n",
            " 77% 24.0M/31.3M [00:00<00:00, 29.4MB/s]\n",
            "100% 31.3M/31.3M [00:00<00:00, 49.3MB/s]\n",
            "Downloading sample_submission.csv.zip to /content/drive/My Drive/Sbermarket_data\n",
            " 88% 18.0M/20.4M [00:00<00:00, 35.5MB/s]\n",
            "100% 20.4M/20.4M [00:00<00:00, 46.0MB/s]\n",
            "Downloading tab_6_city.csv to /content/drive/My Drive/Sbermarket_data\n",
            "  0% 0.00/16.2k [00:00<?, ?B/s]\n",
            "100% 16.2k/16.2k [00:00<00:00, 1.12MB/s]\n"
          ],
          "name": "stdout"
        }
      ]
    },
    {
      "cell_type": "code",
      "metadata": {
        "id": "aLMSrDykjZTe",
        "outputId": "cf3902bf-b48a-4f04-c7e2-1ffcb4434370",
        "colab": {
          "base_uri": "https://localhost:8080/",
          "height": 312
        }
      },
      "source": [
        "!ls"
      ],
      "execution_count": null,
      "outputs": [
        {
          "output_type": "stream",
          "text": [
            "kaggle.json\t\t\t   tab_2_products_2020-05-20.csv.zip\n",
            "sample_submission.csv.zip\t   tab_2_products_2020-05-30.csv.zip\n",
            "tab_1_orders.csv.zip\t\t   tab_2_products_2020-06-09.csv.zip\n",
            "tab_2_products_2020-01-01.csv.zip  tab_2_products_2020-06-19.csv.zip\n",
            "tab_2_products_2020-01-11.csv.zip  tab_2_products_2020-06-29.csv.zip\n",
            "tab_2_products_2020-01-21.csv.zip  tab_2_products_2020-07-09.csv.zip\n",
            "tab_2_products_2020-01-31.csv.zip  tab_2_products_2020-07-19.csv.zip\n",
            "tab_2_products_2020-02-10.csv.zip  tab_2_products_2020-07-29.csv.zip\n",
            "tab_2_products_2020-02-20.csv.zip  tab_2_products_2020-08-08.csv.zip\n",
            "tab_2_products_2020-03-01.csv.zip  tab_2_products_2020-08-18.csv.zip\n",
            "tab_2_products_2020-03-11.csv.zip  tab_2_products_2020-08-28.csv.zip\n",
            "tab_2_products_2020-03-21.csv.zip  tab_2_products_2020-09-07.csv.zip\n",
            "tab_2_products_2020-03-31.csv.zip  tab_3_categories.csv\n",
            "tab_2_products_2020-04-10.csv.zip  tab_4_user_profiles.csv.zip\n",
            "tab_2_products_2020-04-20.csv.zip  tab_5_product_properties.csv.zip\n",
            "tab_2_products_2020-04-30.csv.zip  tab_6_city.csv\n",
            "tab_2_products_2020-05-10.csv.zip\n"
          ],
          "name": "stdout"
        }
      ]
    },
    {
      "cell_type": "code",
      "metadata": {
        "id": "oA8za_LImwRB"
      },
      "source": [
        "!mkdir tab_2\n",
        "\n",
        "!unzip -q tab_2_products_2020-04-10.csv.zip -d tab_2/ \n",
        "!unzip -q tab_2_products_2020-04-30.csv.zip -d tab_2/\n",
        "!unzip -q tab_2_products_2020-04-20.csv.zip -d tab_2/\n",
        "!unzip -q tab_2_products_2020-08-08.csv.zip -d tab_2/\n",
        "!unzip -q tab_2_products_2020-08-18.csv.zip -d tab_2/\n",
        "!unzip -q tab_2_products_2020-09-07.csv.zip -d tab_2/\n",
        "!unzip -q tab_2_products_2020-08-28.csv.zip -d tab_2/\n",
        "!unzip -q tab_2_products_2020-05-30.csv.zip -d tab_2/\n",
        "!unzip -q tab_2_products_2020-05-10.csv.zip -d tab_2/\n",
        "!unzip -q tab_2_products_2020-05-20.csv.zip -d tab_2/\n",
        "!unzip -q tab_2_products_2020-07-09.csv.zip -d tab_2/\n",
        "!unzip -q tab_2_products_2020-07-19.csv.zip -d tab_2/\n",
        "!unzip -q tab_2_products_2020-07-29.csv.zip -d tab_2/\n",
        "!unzip -q tab_2_products_2020-06-09.csv.zip -d tab_2/\n",
        "!unzip -q tab_2_products_2020-06-19.csv.zip -d tab_2/\n",
        "!unzip -q tab_2_products_2020-06-29.csv.zip -d tab_2/\n",
        "!unzip -q tab_2_products_2020-03-21.csv.zip -d tab_2/\n",
        "!unzip -q tab_2_products_2020-01-21.csv.zip -d tab_2/\n",
        "!unzip -q tab_2_products_2020-02-10.csv.zip -d tab_2/\n",
        "!unzip -q tab_2_products_2020-03-11.csv.zip -d tab_2/\n",
        "!unzip -q tab_2_products_2020-03-01.csv.zip -d tab_2/\n",
        "!unzip -q tab_2_products_2020-01-31.csv.zip -d tab_2/\n",
        "!unzip -q tab_2_products_2020-03-31.csv.zip -d tab_2/\n",
        "!unzip -q tab_2_products_2020-02-20.csv.zip -d tab_2/\n",
        "!unzip -q tab_2_products_2020-01-11.csv.zip -d tab_2/\n",
        "!unzip -q tab_2_products_2020-01-01.csv.zip -d tab_2/"
      ],
      "execution_count": null,
      "outputs": []
    },
    {
      "cell_type": "code",
      "metadata": {
        "id": "BeUdB5-xmsAL"
      },
      "source": [
        "!mkdir tab_1\n",
        "\n",
        "!unzip -q tab_1_orders.csv.zip -d tab_1/"
      ],
      "execution_count": null,
      "outputs": []
    },
    {
      "cell_type": "markdown",
      "metadata": {
        "id": "nCWgvrho5rRr"
      },
      "source": [
        "## Input preparation"
      ]
    },
    {
      "cell_type": "code",
      "metadata": {
        "id": "RBHx8Fm2wM-F",
        "outputId": "7184b072-49d8-4700-fab8-b7ead5641c30",
        "colab": {
          "base_uri": "https://localhost:8080/",
          "height": 206
        }
      },
      "source": [
        "# Read plants.csv\n",
        "data_orders = pd.read_csv(\n",
        "    # file path\n",
        "    \"tab_1/tab_1_orders.csv\"\n",
        ")\n",
        "# Viewing the first 5 rows\n",
        "data_orders.head(5)"
      ],
      "execution_count": null,
      "outputs": [
        {
          "output_type": "execute_result",
          "data": {
            "text/html": [
              "<div>\n",
              "<style scoped>\n",
              "    .dataframe tbody tr th:only-of-type {\n",
              "        vertical-align: middle;\n",
              "    }\n",
              "\n",
              "    .dataframe tbody tr th {\n",
              "        vertical-align: top;\n",
              "    }\n",
              "\n",
              "    .dataframe thead th {\n",
              "        text-align: right;\n",
              "    }\n",
              "</style>\n",
              "<table border=\"1\" class=\"dataframe\">\n",
              "  <thead>\n",
              "    <tr style=\"text-align: right;\">\n",
              "      <th></th>\n",
              "      <th>user_id</th>\n",
              "      <th>order_id</th>\n",
              "      <th>order_created_time</th>\n",
              "      <th>retailer</th>\n",
              "      <th>store_id</th>\n",
              "      <th>platform</th>\n",
              "    </tr>\n",
              "  </thead>\n",
              "  <tbody>\n",
              "    <tr>\n",
              "      <th>0</th>\n",
              "      <td>72</td>\n",
              "      <td>17431000</td>\n",
              "      <td>2020-09-26 10:48:57</td>\n",
              "      <td>METRO</td>\n",
              "      <td>21</td>\n",
              "      <td>app</td>\n",
              "    </tr>\n",
              "    <tr>\n",
              "      <th>1</th>\n",
              "      <td>83</td>\n",
              "      <td>9718154</td>\n",
              "      <td>2020-05-08 09:46:18</td>\n",
              "      <td>METRO</td>\n",
              "      <td>87</td>\n",
              "      <td>web</td>\n",
              "    </tr>\n",
              "    <tr>\n",
              "      <th>2</th>\n",
              "      <td>142</td>\n",
              "      <td>10056850</td>\n",
              "      <td>2020-05-14 15:06:03</td>\n",
              "      <td>METRO</td>\n",
              "      <td>320</td>\n",
              "      <td>app</td>\n",
              "    </tr>\n",
              "    <tr>\n",
              "      <th>3</th>\n",
              "      <td>187</td>\n",
              "      <td>15952443</td>\n",
              "      <td>2020-09-01 17:34:00</td>\n",
              "      <td>ВкусВилл</td>\n",
              "      <td>533</td>\n",
              "      <td>app</td>\n",
              "    </tr>\n",
              "    <tr>\n",
              "      <th>4</th>\n",
              "      <td>224</td>\n",
              "      <td>10409918</td>\n",
              "      <td>2020-05-20 06:32:50</td>\n",
              "      <td>Ашан</td>\n",
              "      <td>183</td>\n",
              "      <td>web</td>\n",
              "    </tr>\n",
              "  </tbody>\n",
              "</table>\n",
              "</div>"
            ],
            "text/plain": [
              "   user_id  order_id   order_created_time  retailer  store_id platform\n",
              "0       72  17431000  2020-09-26 10:48:57     METRO        21      app\n",
              "1       83   9718154  2020-05-08 09:46:18     METRO        87      web\n",
              "2      142  10056850  2020-05-14 15:06:03     METRO       320      app\n",
              "3      187  15952443  2020-09-01 17:34:00  ВкусВилл       533      app\n",
              "4      224  10409918  2020-05-20 06:32:50      Ашан       183      web"
            ]
          },
          "metadata": {
            "tags": []
          },
          "execution_count": 89
        }
      ]
    },
    {
      "cell_type": "code",
      "metadata": {
        "id": "cfaY-I0MGqxR"
      },
      "source": [
        "# create a list of tab_2 in order\n",
        "Seq_data_products = os.listdir(\"tab_2\")\n",
        "Seq_data_products_dates = []\n",
        "for i in range(len(Seq_data_products)):\n",
        "  Seq_data_products_dates.append(Seq_data_products[i][-14:-4])\n",
        "\n",
        "Seq_data_products_ordered = [line for (time,line) in sorted(zip(Seq_data_products_dates, Seq_data_products))] "
      ],
      "execution_count": null,
      "outputs": []
    },
    {
      "cell_type": "code",
      "metadata": {
        "id": "ItnYK62Nxn2W"
      },
      "source": [
        "train_data = {}\n",
        "\n",
        "# Create a dictionary for unique users and their sequential order_id\n",
        "Unique_Users = data_orders.user_id.unique()\n",
        "for user in Unique_Users:\n",
        "  train_data[user] = []"
      ],
      "execution_count": null,
      "outputs": []
    },
    {
      "cell_type": "code",
      "metadata": {
        "id": "ecnzJNm2z51-"
      },
      "source": [
        "# ~3hrs and 20 min\n",
        "for tab2 in Seq_data_products_ordered:\n",
        "  data_products = pd.read_csv(\"tab_2/\"+tab2)\n",
        "  users = data_products.user_id.unique()\n",
        "  for i in range(len(users)):\n",
        "    test_user = users[i]\n",
        "    if test_user not in train_data:\n",
        "      train_data[test_user] = []\n",
        "    #table of orders for each user\n",
        "    test_user_order_ids = data_products[data_products['user_id'] == test_user]\n",
        "    #unique orders of this user\n",
        "    orders = list(test_user_order_ids.order_id.unique())\n",
        "    #order the unique values by order_id\n",
        "    orders.sort()\n",
        "    for j in range(len(orders)):\n",
        "      #product ids in each order\n",
        "      test_user_ord_prd = test_user_order_ids[test_user_order_ids['order_id'] == orders[j]].product_id.unique()\n",
        "      train_data[test_user].append(list(test_user_ord_prd))"
      ],
      "execution_count": null,
      "outputs": []
    },
    {
      "cell_type": "code",
      "metadata": {
        "id": "bfUqS79dCs_D"
      },
      "source": [
        "Final_Data = []\n",
        "\n",
        "for k, v in train_data.items():\n",
        "  basket_len = len(train_data[k])\n",
        "  Final_Data.append({\"userID\":k, \"baskets\":train_data[k], \"num_baskets\":basket_len})"
      ],
      "execution_count": null,
      "outputs": []
    },
    {
      "cell_type": "code",
      "metadata": {
        "id": "fBuV79nF4wjz"
      },
      "source": [
        "keys = Final_Data[0].keys()\n",
        "with open('DATA.csv', 'w', newline='')  as output_file:\n",
        "    dict_writer = csv.DictWriter(output_file, keys)\n",
        "    dict_writer.writeheader()\n",
        "    dict_writer.writerows(Final_Data)"
      ],
      "execution_count": null,
      "outputs": []
    },
    {
      "cell_type": "markdown",
      "metadata": {
        "id": "lEiDrf9_9wH0"
      },
      "source": [
        "## Analyze number of baskets in Data"
      ]
    },
    {
      "cell_type": "code",
      "metadata": {
        "id": "5YD9sbUy49Fp",
        "outputId": "4b39266e-d70e-4dbd-d5c9-fe3a246ae257",
        "colab": {
          "base_uri": "https://localhost:8080/",
          "height": 206
        }
      },
      "source": [
        "final_data = pd.read_csv(\n",
        "    # file path\n",
        "    \"DATA.csv\"\n",
        ")\n",
        "# Viewing the first 5 rows\n",
        "final_data.head(5)"
      ],
      "execution_count": null,
      "outputs": [
        {
          "output_type": "execute_result",
          "data": {
            "text/html": [
              "<div>\n",
              "<style scoped>\n",
              "    .dataframe tbody tr th:only-of-type {\n",
              "        vertical-align: middle;\n",
              "    }\n",
              "\n",
              "    .dataframe tbody tr th {\n",
              "        vertical-align: top;\n",
              "    }\n",
              "\n",
              "    .dataframe thead th {\n",
              "        text-align: right;\n",
              "    }\n",
              "</style>\n",
              "<table border=\"1\" class=\"dataframe\">\n",
              "  <thead>\n",
              "    <tr style=\"text-align: right;\">\n",
              "      <th></th>\n",
              "      <th>userID</th>\n",
              "      <th>baskets</th>\n",
              "      <th>num_baskets</th>\n",
              "    </tr>\n",
              "  </thead>\n",
              "  <tbody>\n",
              "    <tr>\n",
              "      <th>0</th>\n",
              "      <td>72</td>\n",
              "      <td>[]</td>\n",
              "      <td>0</td>\n",
              "    </tr>\n",
              "    <tr>\n",
              "      <th>1</th>\n",
              "      <td>83</td>\n",
              "      <td>[[74993, 38831, 4593463, 63102, 198543, 38837,...</td>\n",
              "      <td>1</td>\n",
              "    </tr>\n",
              "    <tr>\n",
              "      <th>2</th>\n",
              "      <td>142</td>\n",
              "      <td>[[5051530]]</td>\n",
              "      <td>1</td>\n",
              "    </tr>\n",
              "    <tr>\n",
              "      <th>3</th>\n",
              "      <td>187</td>\n",
              "      <td>[[88084, 88086]]</td>\n",
              "      <td>1</td>\n",
              "    </tr>\n",
              "    <tr>\n",
              "      <th>4</th>\n",
              "      <td>224</td>\n",
              "      <td>[[52935, 103844, 3052653, 21904, 75926, 2323, ...</td>\n",
              "      <td>1</td>\n",
              "    </tr>\n",
              "  </tbody>\n",
              "</table>\n",
              "</div>"
            ],
            "text/plain": [
              "   userID                                            baskets  num_baskets\n",
              "0      72                                                 []            0\n",
              "1      83  [[74993, 38831, 4593463, 63102, 198543, 38837,...            1\n",
              "2     142                                        [[5051530]]            1\n",
              "3     187                                   [[88084, 88086]]            1\n",
              "4     224  [[52935, 103844, 3052653, 21904, 75926, 2323, ...            1"
            ]
          },
          "metadata": {
            "tags": []
          },
          "execution_count": 108
        }
      ]
    },
    {
      "cell_type": "code",
      "metadata": {
        "id": "54kLfsj05USU",
        "outputId": "259d86f1-ec64-4883-8e5f-d491f13922ad",
        "colab": {
          "base_uri": "https://localhost:8080/",
          "height": 483
        }
      },
      "source": [
        "lll = list(final_data.num_baskets.values)\n",
        "lll.sort(reverse=True)\n",
        "plt.figure(figsize=(15,8))\n",
        "plt.hist(lll[1:], bins = 250)\n",
        "plt.show()"
      ],
      "execution_count": null,
      "outputs": [
        {
          "output_type": "display_data",
          "data": {
            "image/png": "[encoded data removed]",
            "text/plain": [
              "<Figure size 1080x576 with 1 Axes>"
            ]
          },
          "metadata": {
            "tags": [],
            "needs_background": "light"
          }
        }
      ]
    },
    {
      "cell_type": "markdown",
      "metadata": {
        "id": "nhJniRR1u4i9"
      },
      "source": [
        "## Finding Unique Products"
      ]
    },
    {
      "cell_type": "code",
      "metadata": {
        "id": "B5IDBvt368j2"
      },
      "source": [
        "# create a list of tab_2 in order\n",
        "Seq_data_products = os.listdir(\"tab_2\")\n",
        "Seq_data_products_dates = []\n",
        "for i in range(len(Seq_data_products)):\n",
        "  Seq_data_products_dates.append(Seq_data_products[i][-14:-4])\n",
        "\n",
        "Seq_data_products_ordered = [line for (time,line) in sorted(zip(Seq_data_products_dates, Seq_data_products))] "
      ],
      "execution_count": 5,
      "outputs": []
    },
    {
      "cell_type": "code",
      "metadata": {
        "id": "txhNdBnTereg"
      },
      "source": [
        "Unique_Products = set()\n",
        "\n",
        "for tab2 in Seq_data_products_ordered:\n",
        "  data_products = pd.read_csv(\"tab_2/\"+tab2)\n",
        "  uniq_pr = list(data_products.product_id.unique())\n",
        "  for i in uniq_pr:\n",
        "    if i not in Unique_Products:\n",
        "      Unique_Products.add(i) "
      ],
      "execution_count": 6,
      "outputs": []
    },
    {
      "cell_type": "code",
      "metadata": {
        "id": "jroXTbtIvmHg",
        "outputId": "e320cfcf-72a9-4841-8b1d-509d6d3e5a39",
        "colab": {
          "base_uri": "https://localhost:8080/",
          "height": 52
        }
      },
      "source": [
        "Unique_Products = list(Unique_Products)\n",
        "\n",
        "print('There are', len(Unique_Products), 'unique products in baskets.')\n",
        "print('These are the products we are going to use in scoring')"
      ],
      "execution_count": 8,
      "outputs": [
        {
          "output_type": "stream",
          "text": [
            "There are 95002 unique products in baskets.\n",
            "These are the products we are going to use in scoring\n"
          ],
          "name": "stdout"
        }
      ]
    },
    {
      "cell_type": "markdown",
      "metadata": {
        "id": "YOdHdzz9hbUX"
      },
      "source": [
        "## Create test set"
      ]
    },
    {
      "cell_type": "code",
      "metadata": {
        "id": "thwJ8wIIz7uR"
      },
      "source": [
        "!mkdir sub\n",
        "\n",
        "!unzip -q sample_submission.csv.zip -d sub/"
      ],
      "execution_count": null,
      "outputs": []
    },
    {
      "cell_type": "code",
      "metadata": {
        "id": "v4CBFxxFh9sW",
        "outputId": "0dff72d7-2a59-4a98-e130-b58e9bcd4799",
        "colab": {
          "base_uri": "https://localhost:8080/",
          "height": 34
        }
      },
      "source": [
        "testset_users = pd.read_csv(\"sub/sample_submission.csv\") \n",
        "unique_testset_users = list(testset_users.Id.values)\n",
        "\n",
        "print('There are', len(unique_testset_users), 'users in test set')"
      ],
      "execution_count": 10,
      "outputs": [
        {
          "output_type": "stream",
          "text": [
            "There are 107068 users in test set\n"
          ],
          "name": "stdout"
        }
      ]
    },
    {
      "cell_type": "code",
      "metadata": {
        "id": "YK3xe4tQGT4s"
      },
      "source": [
        "Final_test_Dict = {\"test_users\":unique_testset_users, \"Products\": Unique_Products}\n",
        "\n",
        "with open('Test.pickle', 'wb') as handle:\n",
        "    pickle.dump(Final_test_Dict, handle, protocol=pickle.HIGHEST_PROTOCOL)"
      ],
      "execution_count": 15,
      "outputs": []
    },
    {
      "cell_type": "code",
      "metadata": {
        "id": "gMVnLD1eHdJg"
      },
      "source": [
        ""
      ],
      "execution_count": null,
      "outputs": []
    }
  ]
}